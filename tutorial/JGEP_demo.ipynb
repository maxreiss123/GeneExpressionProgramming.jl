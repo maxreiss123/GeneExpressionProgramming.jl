{
 "cells": [
  {
   "cell_type": "markdown",
   "metadata": {
    "id": "T4OGbNk5Z7nr"
   },
   "source": [
    "# Demo: Considering an easy regression task using the JGepRegression\n",
    "# Here we start by installing the Julia kernel - this may take a few moments 😴"
   ]
  },
  {
   "cell_type": "markdown",
   "metadata": {
    "id": "XudtpijzaDL1"
   },
   "source": []
  },
  {
   "cell_type": "code",
   "execution_count": 13,
   "metadata": {
    "colab": {
     "base_uri": "https://localhost:8080/",
     "height": 87
    },
    "executionInfo": {
     "elapsed": 1094,
     "status": "ok",
     "timestamp": 1728281491020,
     "user": {
      "displayName": "Max Reissmann",
      "userId": "18348963551816227661"
     },
     "user_tz": -660
    },
    "id": "MbYd4VSkV7Nv",
    "outputId": "eb520cac-8c01-4852-be1a-4b788de1d18c",
    "vscode": {
     "languageId": "python"
    }
   },
   "outputs": [],
   "source": [
    "%%shell\n",
    "set +e\n",
    "\n",
    "#---------------------------------------------------#\n",
    "JULIA_VERSION=\"1.10.5\" # any version ≥ 0.7.0\n",
    "JULIA_PACKAGES=\"IJulia BenchmarkTools CSV DataFrames Plots Dates DynamicExpressions FileIO ForwardDiff GZip JSON LineSearches LinearAlgebra Logging Optim OrderedCollections ProgressMeter Random Serialization StaticArrays Statistics Zygote\"\n",
    "JULIA_NUM_THREADS=2\n",
    "#---------------------------------------------------#\n",
    "\n",
    "if [ -z `which julia` ]; then\n",
    "  # Install Julia\n",
    "  JULIA_VER=`cut -d '.' -f -2 <<< \"$JULIA_VERSION\"`\n",
    "  echo \"Installing Julia $JULIA_VERSION on the current Colab Runtime...\"\n",
    "  BASE_URL=\"https://julialang-s3.julialang.org/bin/linux/x64\"\n",
    "  URL=\"$BASE_URL/$JULIA_VER/julia-$JULIA_VERSION-linux-x86_64.tar.gz\"\n",
    "  if ! wget -nv $URL -O /tmp/julia.tar.gz; then\n",
    "    echo \"Failed to download Julia. Check the URL and your internet connection.\"\n",
    "    exit 1\n",
    "  fi\n",
    "\n",
    "  if ! tar -x -f /tmp/julia.tar.gz -C /usr/local --strip-components 1; then\n",
    "    echo \"Failed to extract Julia archive. Check if you have sufficient permissions.\"\n",
    "    exit 1\n",
    "  fi\n",
    "\n",
    "  rm /tmp/julia.tar.gz\n",
    "\n",
    "  # Install packages\n",
    "  echo \"Installing packages...\"\n",
    "  if ! julia -e \"using Pkg; Pkg.add([$(echo $JULIA_PACKAGES | sed \"s/ /\\\", \\\"/g\" | sed \"s/^/\\\"/; s/$/\\\"/\")]); Pkg.precompile()\"; then\n",
    "    echo \"Failed to install some packages. Please check the output for details.\"\n",
    "  fi\n",
    "\n",
    "  # Install kernel and rename it to \"julia\"\n",
    "  echo \"Installing IJulia kernel...\"\n",
    "  if ! julia -e 'using Pkg; Pkg.add(\"IJulia\"); using IJulia; IJulia.installkernel(\"julia\", env=Dict(\"JULIA_NUM_THREADS\"=>\"'\"$JULIA_NUM_THREADS\"'\"))'; then\n",
    "    echo \"Failed to install IJulia kernel. Check your internet connection and try again.\"\n",
    "    exit 1\n",
    "  fi\n",
    "\n",
    "  KERNEL_DIR=`julia -e \"using IJulia; print(IJulia.kerneldir())\"`\n",
    "  KERNEL_NAME=`ls -d \"$KERNEL_DIR\"/julia*`\n",
    "  if ! mv -f $KERNEL_NAME \"$KERNEL_DIR\"/julia; then\n",
    "    echo \"Failed to rename kernel. Check if you have sufficient permissions.\"\n",
    "    exit 1\n",
    "  fi\n",
    "\n",
    "  echo ''\n",
    "  echo \"Successfully installed Julia $JULIA_VERSION with the specified packages!\"\n",
    "  echo \"Please reload this page (press Ctrl+R, ⌘+R, or the F5 key) then\"\n",
    "  echo \"select 'Julia' from the kernel dropdown menu to start using Julia.\"\n",
    "else\n",
    "  echo \"Julia is already installed. Version: `julia -v`\"\n",
    "  echo \"Updating packages...\"\n",
    "  if ! julia -e \"using Pkg; Pkg.add([$(echo $JULIA_PACKAGES | sed \"s/ /\\\", \\\"/g\" | sed \"s/^/\\\"/; s/$/\\\"/\")]); Pkg.update(); Pkg.precompile()\"; then\n",
    "    echo \"Failed to update some packages. Please check the output for details.\"\n",
    "  fi\n",
    "fi"
   ]
  },
  {
   "cell_type": "markdown",
   "metadata": {
    "id": "97CtwiD6aaDT"
   },
   "source": [
    "## After that, go to the right corner (small threefold pointing downwards) and change the runtime type to the julia kernel\n",
    "\n",
    "## In the nextline we just make sure that we have installed it"
   ]
  },
  {
   "cell_type": "code",
   "execution_count": 1,
   "metadata": {
    "colab": {
     "base_uri": "https://localhost:8080/"
    },
    "executionInfo": {
     "elapsed": 2462,
     "status": "ok",
     "timestamp": 1728281291097,
     "user": {
      "displayName": "Max Reissmann",
      "userId": "18348963551816227661"
     },
     "user_tz": -660
    },
    "id": "JFopKmJlYKMu",
    "outputId": "0086e818-1779-435d-a238-fbd101e86706",
    "vscode": {
     "languageId": "python"
    }
   },
   "outputs": [],
   "source": [
    "versioninfo()"
   ]
  },
  {
   "cell_type": "code",
   "execution_count": 2,
   "metadata": {
    "colab": {
     "base_uri": "https://localhost:8080/"
    },
    "executionInfo": {
     "elapsed": 29332,
     "status": "ok",
     "timestamp": 1728281320427,
     "user": {
      "displayName": "Max Reissmann",
      "userId": "18348963551816227661"
     },
     "user_tz": -660
    },
    "id": "Ftv_eCIAYNgq",
    "outputId": "481c1eb8-f067-4c92-ed35-4f8453138b9a",
    "vscode": {
     "languageId": "python"
    }
   },
   "outputs": [],
   "source": [
    "# We install the package: - takes another minute :(\n",
    "using Pkg\n",
    "using Random\n",
    "Pkg.add(url=\"https://github.com/maxreiss123/GeneExpressionProgramming.jl.git\")"
   ]
  },
  {
   "cell_type": "code",
   "execution_count": 3,
   "metadata": {
    "colab": {
     "base_uri": "https://localhost:8080/"
    },
    "executionInfo": {
     "elapsed": 3071,
     "status": "ok",
     "timestamp": 1728281390542,
     "user": {
      "displayName": "Max Reissmann",
      "userId": "18348963551816227661"
     },
     "user_tz": -660
    },
    "id": "sCWJL3G9bUuD",
    "outputId": "7da72dc7-abcc-4ab9-ec3d-32e909a0c7db",
    "vscode": {
     "languageId": "python"
    }
   },
   "outputs": [],
   "source": [
    "#Then we import everthing we need - add further libs if you would like to plot the result\n",
    "using GeneExpressionProgramming\n",
    "\n",
    "#If we want to reproduce our results\n",
    "Random.seed!(1)"
   ]
  },
  {
   "cell_type": "markdown",
   "metadata": {
    "id": "uhB9LsOzgmMb"
   },
   "source": [
    "## We now define the data according to a function:\n",
    "\n",
    "$$\n",
    "y = x_1^2 + 0.5 x_1x_2-2x_2^2\n",
    "$$"
   ]
  },
  {
   "cell_type": "code",
   "execution_count": 9,
   "metadata": {
    "executionInfo": {
     "elapsed": 320,
     "status": "ok",
     "timestamp": 1728281428432,
     "user": {
      "displayName": "Max Reissmann",
      "userId": "18348963551816227661"
     },
     "user_tz": -660
    },
    "id": "_Yh3R71WglnI",
    "vscode": {
     "languageId": "python"
    }
   },
   "outputs": [],
   "source": [
    "#Generate some data\n",
    "x_data = randn(Float64, 2, 1000);\n",
    "y_data = @. x_data[1,:] * x_data[1,:] + x_data[1,:] * x_data[2,:] - 2 * x_data[2,:] * x_data[2,:];\n",
    "\n",
    "\n",
    "x_test = randn(Float64, 2, 1000);\n",
    "y_test = @. x_data[1,:] * x_data[1,:] + x_data[1,:] * x_data[2,:] - 2 * x_data[2,:] * x_data[2,:];\n",
    "\n"
   ]
  },
  {
   "cell_type": "code",
   "execution_count": 10,
   "metadata": {
    "colab": {
     "base_uri": "https://localhost:8080/"
    },
    "executionInfo": {
     "elapsed": 658,
     "status": "ok",
     "timestamp": 1728281433278,
     "user": {
      "displayName": "Max Reissmann",
      "userId": "18348963551816227661"
     },
     "user_tz": -660
    },
    "id": "w5PoP0Exg8sm",
    "outputId": "8d3b4e54-b4a0-4462-ca35-800be43f3caf",
    "vscode": {
     "languageId": "python"
    }
   },
   "outputs": [],
   "source": [
    "#Setting number of individuals\n",
    "population_size = 1000\n",
    "#Setting number of epochs\n",
    "epochs = 1000"
   ]
  },
  {
   "cell_type": "code",
   "execution_count": null,
   "metadata": {
    "id": "fprwJXMDjUEz",
    "vscode": {
     "languageId": "python"
    }
   },
   "outputs": [],
   "source": [
    "#define the \n",
    "regressor = GepRegressor(number_features)\n",
    "\n",
    "fit!(regressor, epochs, population_size, x_data', y_data; loss_fun=\"mse\")\n",
    "\n",
    "pred = regressor(x_data')\n",
    "\n",
    "@show regressor.best_models_[1].compiled_function\n",
    "@show regressor.best_models_[1].fitness"
   ]
  },
  {
   "cell_type": "markdown",
   "metadata": {},
   "source": [
    "# Creating a view nice Plots"
   ]
  },
  {
   "cell_type": "code",
   "execution_count": null,
   "metadata": {
    "vscode": {
     "languageId": "python"
    }
   },
   "outputs": [],
   "source": [
    "\n",
    "#Making a nice plot - data vs\n",
    "pred_vs_actual = scatter(vec(pred), vec(y_test),\n",
    "    xlabel=\"Actual Values\",\n",
    "    ylabel=\"Predicted Values\",\n",
    "    label=\"Predictions \",\n",
    "    title=\"Predictions vs Actual - Symbolic Regression\");\n",
    "\n",
    "\n",
    "plot!(pred_vs_actual, vec(y_test), vec(y_test),\n",
    "    label=\"Prediction Comparison\",\n",
    "    color=:red)\n",
    "\n",
    "#train loss vs validation loss\n",
    "train_validation = plot(\n",
    "    regressor.fitness_history_.train_loss,\n",
    "    label=\"Training Loss\",\n",
    "    ylabel=\"Loss\",\n",
    "    xlabel=\"Epoch\",\n",
    "    linewidth=2\n",
    ");\n",
    "\n",
    "plot!(\n",
    "    train_validation,\n",
    "    regressor.fitness_history_.val_loss,\n",
    "    label=\"Validation Loss\",\n",
    "    linewidth=2\n",
    ")\n"
   ]
  },
  {
   "cell_type": "code",
   "execution_count": null,
   "metadata": {
    "vscode": {
     "languageId": "python"
    }
   },
   "outputs": [],
   "source": []
  }
 ],
 "metadata": {
  "colab": {
   "authorship_tag": "ABX9TyNeSIyC8h8HTq+tCGj2n83Y",
   "provenance": []
  },
  "kernelspec": {
   "display_name": "julia 1.10.5",
   "name": "julia"
  },
  "language_info": {
   "name": ""
  }
 },
 "nbformat": 4,
 "nbformat_minor": 4
}
